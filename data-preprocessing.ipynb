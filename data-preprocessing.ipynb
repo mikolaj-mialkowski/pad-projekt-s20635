{
 "cells": [
  {
   "cell_type": "markdown",
   "source": [
    "# 0 Import the libraries"
   ],
   "metadata": {
    "collapsed": false
   },
   "id": "6069bc2197a498ea"
  },
  {
   "cell_type": "code",
   "outputs": [],
   "source": [
    "import numpy as np\n",
    "import pandas as pd"
   ],
   "metadata": {
    "collapsed": false,
    "ExecuteTime": {
     "end_time": "2024-01-29T23:38:13.856327Z",
     "start_time": "2024-01-29T23:38:13.852573Z"
    }
   },
   "id": "23643880dfa7f0bc",
   "execution_count": 1
  },
  {
   "cell_type": "markdown",
   "source": [
    "# 1 Import the dataset"
   ],
   "metadata": {
    "collapsed": false
   },
   "id": "b431e0ab4a2b1c4"
  },
  {
   "cell_type": "code",
   "outputs": [],
   "source": [
    "df = pd.read_csv('./input/messy_data.csv')"
   ],
   "metadata": {
    "collapsed": false,
    "ExecuteTime": {
     "end_time": "2024-01-29T23:38:13.864262Z",
     "start_time": "2024-01-29T23:38:13.857744Z"
    }
   },
   "id": "a3b503b784039bc5",
   "execution_count": 2
  },
  {
   "cell_type": "code",
   "outputs": [
    {
     "data": {
      "text/plain": "(200, 10)"
     },
     "execution_count": 3,
     "metadata": {},
     "output_type": "execute_result"
    }
   ],
   "source": [
    "df.shape "
   ],
   "metadata": {
    "collapsed": false,
    "ExecuteTime": {
     "end_time": "2024-01-29T23:38:13.868331Z",
     "start_time": "2024-01-29T23:38:13.865954Z"
    }
   },
   "id": "2c8562a226b858ee",
   "execution_count": 3
  },
  {
   "cell_type": "code",
   "outputs": [
    {
     "data": {
      "text/plain": "     carat  clarity  color       cut  x dimension  y dimension  z dimension  \\\n161    0.4      Si1      I   Premium          4.7         4.69                \n6      0.5       if      D     Ideal          5.1                       3.2   \n53     0.5     VVS1      E   premium          5.2         5.22                \n\n     depth  table  price  \n161   62.2     55   2200  \n6     61.5     57   3100  \n53             58   2900  ",
      "text/html": "<div>\n<style scoped>\n    .dataframe tbody tr th:only-of-type {\n        vertical-align: middle;\n    }\n\n    .dataframe tbody tr th {\n        vertical-align: top;\n    }\n\n    .dataframe thead th {\n        text-align: right;\n    }\n</style>\n<table border=\"1\" class=\"dataframe\">\n  <thead>\n    <tr style=\"text-align: right;\">\n      <th></th>\n      <th>carat</th>\n      <th>clarity</th>\n      <th>color</th>\n      <th>cut</th>\n      <th>x dimension</th>\n      <th>y dimension</th>\n      <th>z dimension</th>\n      <th>depth</th>\n      <th>table</th>\n      <th>price</th>\n    </tr>\n  </thead>\n  <tbody>\n    <tr>\n      <th>161</th>\n      <td>0.4</td>\n      <td>Si1</td>\n      <td>I</td>\n      <td>Premium</td>\n      <td>4.7</td>\n      <td>4.69</td>\n      <td></td>\n      <td>62.2</td>\n      <td>55</td>\n      <td>2200</td>\n    </tr>\n    <tr>\n      <th>6</th>\n      <td>0.5</td>\n      <td>if</td>\n      <td>D</td>\n      <td>Ideal</td>\n      <td>5.1</td>\n      <td></td>\n      <td>3.2</td>\n      <td>61.5</td>\n      <td>57</td>\n      <td>3100</td>\n    </tr>\n    <tr>\n      <th>53</th>\n      <td>0.5</td>\n      <td>VVS1</td>\n      <td>E</td>\n      <td>premium</td>\n      <td>5.2</td>\n      <td>5.22</td>\n      <td></td>\n      <td></td>\n      <td>58</td>\n      <td>2900</td>\n    </tr>\n  </tbody>\n</table>\n</div>"
     },
     "execution_count": 4,
     "metadata": {},
     "output_type": "execute_result"
    }
   ],
   "source": [
    "df.sample(3)"
   ],
   "metadata": {
    "collapsed": false,
    "ExecuteTime": {
     "end_time": "2024-01-29T23:38:13.877515Z",
     "start_time": "2024-01-29T23:38:13.871040Z"
    }
   },
   "id": "4f5c152f69eb237",
   "execution_count": 4
  },
  {
   "cell_type": "markdown",
   "source": [
    "# 2 Rename the columns"
   ],
   "metadata": {
    "collapsed": false
   },
   "id": "9c2ca42921634316"
  },
  {
   "cell_type": "code",
   "outputs": [],
   "source": [
    "df.columns = df.columns.str.strip()"
   ],
   "metadata": {
    "collapsed": false,
    "ExecuteTime": {
     "end_time": "2024-01-29T23:38:13.888793Z",
     "start_time": "2024-01-29T23:38:13.878642Z"
    }
   },
   "id": "4dfe5c4f76a2f12a",
   "execution_count": 5
  },
  {
   "cell_type": "markdown",
   "source": [
    "# 3 Remove duplicate rows"
   ],
   "metadata": {
    "collapsed": false
   },
   "id": "5e6e10b1d3e4044c"
  },
  {
   "cell_type": "code",
   "outputs": [],
   "source": [
    "df.drop_duplicates(inplace=True)"
   ],
   "metadata": {
    "collapsed": false,
    "ExecuteTime": {
     "end_time": "2024-01-29T23:38:13.889233Z",
     "start_time": "2024-01-29T23:38:13.881961Z"
    }
   },
   "id": "741c12454df5b752",
   "execution_count": 6
  },
  {
   "cell_type": "markdown",
   "source": [
    "# 4 Transform object columns into numeric"
   ],
   "metadata": {
    "collapsed": false
   },
   "id": "8dbcabfe95f5dc5b"
  },
  {
   "cell_type": "code",
   "outputs": [],
   "source": [
    "for col in ['carat', 'x dimension', 'y dimension', 'z dimension', 'depth', 'table', 'price']:\n",
    "    df[col] = pd.to_numeric(df[col], errors='coerce')"
   ],
   "metadata": {
    "collapsed": false,
    "ExecuteTime": {
     "end_time": "2024-01-29T23:38:13.899082Z",
     "start_time": "2024-01-29T23:38:13.887468Z"
    }
   },
   "id": "599adee623dae84d",
   "execution_count": 7
  },
  {
   "cell_type": "code",
   "outputs": [],
   "source": [
    "from sklearn.preprocessing import LabelEncoder"
   ],
   "metadata": {
    "collapsed": false,
    "ExecuteTime": {
     "end_time": "2024-01-29T23:38:13.960455Z",
     "start_time": "2024-01-29T23:38:13.888708Z"
    }
   },
   "id": "69c4f611bf4e26ae",
   "execution_count": 8
  },
  {
   "cell_type": "code",
   "outputs": [],
   "source": [
    "df['cut'] = LabelEncoder().fit_transform(df['cut'])\n",
    "df['color'] = LabelEncoder().fit_transform(df['color'])\n",
    "df['clarity'] = LabelEncoder().fit_transform(df['clarity'])"
   ],
   "metadata": {
    "collapsed": false,
    "ExecuteTime": {
     "end_time": "2024-01-29T23:38:13.966575Z",
     "start_time": "2024-01-29T23:38:13.961939Z"
    }
   },
   "id": "fccd180e2a8fc1f7",
   "execution_count": 9
  },
  {
   "cell_type": "markdown",
   "source": [
    "# 5 Replace missing values with the mean"
   ],
   "metadata": {
    "collapsed": false
   },
   "id": "46321851d39b8165"
  },
  {
   "cell_type": "code",
   "outputs": [],
   "source": [
    "df.fillna(df.mean(), inplace=True)"
   ],
   "metadata": {
    "collapsed": false,
    "ExecuteTime": {
     "end_time": "2024-01-29T23:38:13.967693Z",
     "start_time": "2024-01-29T23:38:13.966391Z"
    }
   },
   "id": "6468af96e86a2f4a",
   "execution_count": 10
  },
  {
   "cell_type": "markdown",
   "source": [
    "# 6 Remove outliers"
   ],
   "metadata": {
    "collapsed": false
   },
   "id": "4ea1d8b9d6f838cc"
  },
  {
   "cell_type": "code",
   "outputs": [],
   "source": [
    "for column in df.columns:\n",
    "    lower_bound = df[column].quantile(0.01)\n",
    "    upper_bound = df[column].quantile(0.99)\n",
    "    df = df[(df[column] >= lower_bound) & (df[column] <= upper_bound)]"
   ],
   "metadata": {
    "collapsed": false,
    "ExecuteTime": {
     "end_time": "2024-01-29T23:38:13.977516Z",
     "start_time": "2024-01-29T23:38:13.969463Z"
    }
   },
   "id": "41c75cc9f9bfb7c9",
   "execution_count": 11
  },
  {
   "cell_type": "code",
   "outputs": [],
   "source": [
    "for column in df.columns:\n",
    "    df[column] = df[column].astype(float)"
   ],
   "metadata": {
    "collapsed": false,
    "ExecuteTime": {
     "end_time": "2024-01-29T23:38:13.986283Z",
     "start_time": "2024-01-29T23:38:13.980152Z"
    }
   },
   "id": "903997f12df5ed42",
   "execution_count": 12
  },
  {
   "cell_type": "markdown",
   "source": [
    "# 7 Save the cleaned dataset before for further analysis and visualization"
   ],
   "metadata": {
    "collapsed": false
   },
   "id": "e9bb13dabd3142e"
  },
  {
   "cell_type": "code",
   "outputs": [],
   "source": [
    "import os"
   ],
   "metadata": {
    "collapsed": false,
    "ExecuteTime": {
     "end_time": "2024-01-29T23:38:13.986516Z",
     "start_time": "2024-01-29T23:38:13.983174Z"
    }
   },
   "id": "518c2c21fcb56a98",
   "execution_count": 13
  },
  {
   "cell_type": "code",
   "outputs": [],
   "source": [
    "if not os.path.exists('./output'): os.makedirs('./output')\n",
    "df.to_csv('./output/clean_data.csv', index=False)"
   ],
   "metadata": {
    "collapsed": false,
    "ExecuteTime": {
     "end_time": "2024-01-29T23:38:13.992970Z",
     "start_time": "2024-01-29T23:38:13.985090Z"
    }
   },
   "id": "1ac7eebe1a5d6e0b",
   "execution_count": 14
  }
 ],
 "metadata": {
  "kernelspec": {
   "display_name": "Python 3",
   "language": "python",
   "name": "python3"
  },
  "language_info": {
   "codemirror_mode": {
    "name": "ipython",
    "version": 2
   },
   "file_extension": ".py",
   "mimetype": "text/x-python",
   "name": "python",
   "nbconvert_exporter": "python",
   "pygments_lexer": "ipython2",
   "version": "2.7.6"
  }
 },
 "nbformat": 4,
 "nbformat_minor": 5
}
